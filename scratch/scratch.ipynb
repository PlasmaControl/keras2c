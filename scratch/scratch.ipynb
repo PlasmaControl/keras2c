{
 "cells": [
  {
   "cell_type": "code",
   "execution_count": 1,
   "metadata": {
    "code_folding": []
   },
   "outputs": [
    {
     "name": "stderr",
     "output_type": "stream",
     "text": [
      "Using TensorFlow backend.\n"
     ]
    }
   ],
   "source": [
    "### imports\n",
    "import numpy as np\n",
    "#import tensorflow.keras as keras\n",
    "import keras\n",
    "from matplotlib import pyplot as plt\n",
    "import os, sys\n",
    "import copy\n",
    "import pickle\n",
    "import sys\n",
    "sys.path.append(os.path.abspath('../'))\n",
    "from keras2c import keras2c_main\n",
    "from keras import backend as K\n"
   ]
  },
  {
   "cell_type": "markdown",
   "metadata": {},
   "source": [
    "layers:  bidirectional rnn\n",
    "         merge with different sizes\n",
    "         conv3d\n",
    "         pool3d\n",
    "         separable conv\n",
    "         conv transpose\n",
    "         depthwise conv\n",
    "         crop3d\n",
    "         pad3d\n",
    "         upsampling1d\n",
    "         upsampling2d\n",
    "         upsampling3d\n",
    "         locally connected 1d\n",
    "         locally connected 2d\n",
    "         time distributed\n",
    "         \n",
    "         \n",
    " im2col for convolution?\n",
    " static or const?\n",
    " broadcasting sizes for merge layers\n",
    " find the common dimension and add them that way?\n",
    " \n",
    " \n",
    " \n",
    " common API for all function calls\n",
    " figure out max array sizes?\n",
    " figure out keras h5 file format\n",
    " \n"
   ]
  },
  {
   "cell_type": "code",
   "execution_count": 2,
   "metadata": {},
   "outputs": [
    {
     "name": "stdout",
     "output_type": "stream",
     "text": [
      "WARNING:tensorflow:From /home/fouriest/anaconda3/lib/python3.7/site-packages/tensorflow/python/framework/op_def_library.py:263: colocate_with (from tensorflow.python.framework.ops) is deprecated and will be removed in a future version.\n",
      "Instructions for updating:\n",
      "Colocations handled automatically by placer.\n"
     ]
    }
   ],
   "source": [
    "a = keras.layers.Input((4,5))\n",
    "b = keras.layers.TimeDistributed(keras.layers.Dense(8))(a)\n",
    "model = keras.models.Model(a,b)"
   ]
  },
  {
   "cell_type": "code",
   "execution_count": 4,
   "metadata": {},
   "outputs": [
    {
     "data": {
      "text/plain": [
       "(5, 8)"
      ]
     },
     "execution_count": 4,
     "metadata": {},
     "output_type": "execute_result"
    }
   ],
   "source": [
    "weights = model.layers[1].get_weights()\n",
    "weights[0].shape"
   ]
  },
  {
   "cell_type": "code",
   "execution_count": 5,
   "metadata": {},
   "outputs": [
    {
     "data": {
      "text/plain": [
       "<tf.Tensor 'dense_1/BiasAdd:0' shape=(1, 8) dtype=float32>"
      ]
     },
     "execution_count": 5,
     "metadata": {},
     "output_type": "execute_result"
    }
   ],
   "source": [
    "layer = model.layers[1]\n",
    "layer.layer.__call__(K.constant(np.ones((layer.input_shape[2:]))[np.newaxis,:]))"
   ]
  },
  {
   "cell_type": "code",
   "execution_count": 19,
   "metadata": {},
   "outputs": [
    {
     "data": {
      "text/plain": [
       "'input_1'"
      ]
     },
     "execution_count": 19,
     "metadata": {},
     "output_type": "execute_result"
    }
   ],
   "source": [
    "layer.get_input_at(0).name.split(':')[0]"
   ]
  },
  {
   "cell_type": "code",
   "execution_count": 21,
   "metadata": {},
   "outputs": [
    {
     "data": {
      "text/plain": [
       "'TimeDistributed'"
      ]
     },
     "execution_count": 21,
     "metadata": {},
     "output_type": "execute_result"
    }
   ],
   "source": [
    "layer.__class__.__name__"
   ]
  },
  {
   "cell_type": "code",
   "execution_count": 7,
   "metadata": {},
   "outputs": [],
   "source": [
    "from keras2c.io_parsing import *"
   ]
  },
  {
   "cell_type": "code",
   "execution_count": 24,
   "metadata": {},
   "outputs": [
    {
     "data": {
      "text/plain": [
       "'input_1:0'"
      ]
     },
     "execution_count": 24,
     "metadata": {},
     "output_type": "execute_result"
    }
   ],
   "source": [
    "model.inputs[0].name"
   ]
  },
  {
   "cell_type": "code",
   "execution_count": 9,
   "metadata": {},
   "outputs": [
    {
     "data": {
      "text/plain": [
       "(['input_1'], ['time_distributed_1'])"
      ]
     },
     "execution_count": 9,
     "metadata": {},
     "output_type": "execute_result"
    }
   ],
   "source": [
    "get_layer_io_names(layer)"
   ]
  },
  {
   "cell_type": "code",
   "execution_count": 25,
   "metadata": {},
   "outputs": [],
   "source": [
    "        inshp = (9, 7, 6, 3)\n",
    "        alpha = 0.5\n",
    "        a = keras.layers.Input(inshp)\n",
    "        b = keras.layers.LeakyReLU(negative_slope=alpha)(a)\n",
    "        model = keras.models.Model(inputs=a, outputs=b)\n"
   ]
  },
  {
   "cell_type": "code",
   "execution_count": 31,
   "metadata": {},
   "outputs": [
    {
     "data": {
      "text/plain": [
       "'leaky_re_lu_1/LeakyRelu:0'"
      ]
     },
     "execution_count": 31,
     "metadata": {},
     "output_type": "execute_result"
    }
   ],
   "source": [
    "model.layers[1].output.name"
   ]
  },
  {
   "cell_type": "code",
   "execution_count": null,
   "metadata": {},
   "outputs": [],
   "source": []
  },
  {
   "cell_type": "code",
   "execution_count": null,
   "metadata": {},
   "outputs": [],
   "source": []
  },
  {
   "cell_type": "code",
   "execution_count": null,
   "metadata": {},
   "outputs": [],
   "source": []
  },
  {
   "cell_type": "code",
   "execution_count": null,
   "metadata": {},
   "outputs": [],
   "source": []
  },
  {
   "cell_type": "code",
   "execution_count": null,
   "metadata": {},
   "outputs": [],
   "source": []
  },
  {
   "cell_type": "code",
   "execution_count": 712,
   "metadata": {},
   "outputs": [
    {
     "data": {
      "text/plain": [
       "(1, 5, 4)"
      ]
     },
     "execution_count": 712,
     "metadata": {},
     "output_type": "execute_result"
    }
   ],
   "source": [
    "outputs.shape"
   ]
  },
  {
   "cell_type": "code",
   "execution_count": 716,
   "metadata": {},
   "outputs": [],
   "source": [
    "def k2c_sub2idx(sub, shape, ndim):\n",
    "  #/* converts from subscript to linear indices in row major order */\n",
    "    idx = 0\n",
    "    temp = 0;\n",
    "    for i in range(ndim):\n",
    "        temp = sub[i];\n",
    "        for j in range(ndim-1,i,-1):\n",
    "            temp *= shape[j]\n",
    "        idx += temp;\n",
    "    return int(idx)\n",
    "\n",
    "def k2c_idx2sub(idx,shape,ndim):\n",
    "    sub = np.zeros(ndim)\n",
    "    for j in range(ndim-1,-1,-1):\n",
    "        sub[j] = idx % shape[j]\n",
    "        idx = idx // shape[j]\n",
    "    return tuple(sub.astype(int))\n",
    "\n",
    "def flip(a, axis):\n",
    "    ndim = a.ndim\n",
    "    shp = a.shape\n",
    "    a = a.flatten()\n",
    "\n",
    "    step = 1\n",
    "    reduced_size = 1\n",
    "    for i in shp[axis:]:\n",
    "        reduced_size *= i\n",
    "    threshold = int(reduced_size/2)\n",
    "    jump = int(reduced_size)\n",
    "\n",
    "    k=0\n",
    "    while k<a.size:\n",
    "        sub = list(k2c_idx2sub(k,shp,ndim))\n",
    "        sub[axis] = shp[axis]-sub[axis]-1\n",
    "        idx = k2c_sub2idx(sub,shp,ndim)\n",
    "        temp = a[k]\n",
    "        a[k] = a[idx]\n",
    "        a[idx] = temp\n",
    "        if (k+1) % jump >= threshold:\n",
    "            k = (k + 1 -threshold + jump)\n",
    "        else:\n",
    "            k += step\n",
    "    return a.reshape(shp)"
   ]
  },
  {
   "cell_type": "code",
   "execution_count": 593,
   "metadata": {},
   "outputs": [
    {
     "data": {
      "text/plain": [
       "3"
      ]
     },
     "execution_count": 593,
     "metadata": {},
     "output_type": "execute_result"
    }
   ],
   "source": [
    "np.random.randint(1,5)"
   ]
  },
  {
   "cell_type": "code",
   "execution_count": 717,
   "metadata": {},
   "outputs": [
    {
     "name": "stdout",
     "output_type": "stream",
     "text": [
      "5\n",
      "(5, 10, 1, 1, 1)\n",
      "0.0\n",
      "5\n",
      "(5, 10, 1, 1, 1)\n",
      "0.0\n",
      "5\n",
      "(5, 10, 1, 1, 1)\n",
      "0.0\n",
      "5\n",
      "(5, 10, 1, 1, 1)\n",
      "0.0\n",
      "5\n",
      "(5, 10, 1, 1, 1)\n",
      "0.0\n",
      "5\n",
      "(5, 10, 1, 1, 1)\n",
      "0.0\n",
      "5\n",
      "(5, 10, 1, 1, 1)\n",
      "0.0\n",
      "5\n",
      "(5, 10, 1, 1, 1)\n",
      "0.0\n",
      "5\n",
      "(5, 10, 1, 1, 1)\n",
      "0.0\n",
      "5\n",
      "(5, 10, 1, 1, 1)\n",
      "0.0\n"
     ]
    }
   ],
   "source": [
    "for i in range(10):\n",
    "    ndim = 5 #np.random.randint(1,6)\n",
    "    ax = 0 #np.random.randint(ndim)\n",
    "    shp = (5,10,1,1,1) #tuple(np.random.randint(1,25,ndim))\n",
    "    print(ndim)\n",
    "    print(shp)\n",
    "    a = np.random.random(shp)\n",
    "    b1 = np.flip(a,ax)\n",
    "    b2 = flip(a,ax)\n",
    "    print(np.max(np.abs(b1-b2)))"
   ]
  },
  {
   "cell_type": "code",
   "execution_count": 546,
   "metadata": {},
   "outputs": [
    {
     "data": {
      "text/plain": [
       "array([[[ 0,  1,  2],\n",
       "        [ 3,  4,  5],\n",
       "        [ 6,  7,  8],\n",
       "        [ 9, 10, 11],\n",
       "        [12, 13, 14]],\n",
       "\n",
       "       [[15, 16, 17],\n",
       "        [18, 19, 20],\n",
       "        [21, 22, 23],\n",
       "        [24, 25, 26],\n",
       "        [27, 28, 29]]])"
      ]
     },
     "execution_count": 546,
     "metadata": {},
     "output_type": "execute_result"
    }
   ],
   "source": [
    "a"
   ]
  },
  {
   "cell_type": "code",
   "execution_count": 547,
   "metadata": {},
   "outputs": [
    {
     "data": {
      "text/plain": [
       "array([[[ 2,  1,  0],\n",
       "        [ 5,  4,  3],\n",
       "        [ 8,  7,  6],\n",
       "        [11, 10,  9],\n",
       "        [14, 13, 12]],\n",
       "\n",
       "       [[17, 16, 15],\n",
       "        [20, 19, 18],\n",
       "        [23, 22, 21],\n",
       "        [26, 25, 24],\n",
       "        [29, 28, 27]]])"
      ]
     },
     "execution_count": 547,
     "metadata": {},
     "output_type": "execute_result"
    }
   ],
   "source": [
    "b1"
   ]
  },
  {
   "cell_type": "code",
   "execution_count": 548,
   "metadata": {},
   "outputs": [
    {
     "data": {
      "text/plain": [
       "array([[[ 2,  1,  0],\n",
       "        [ 5,  4,  3],\n",
       "        [ 8,  7,  6],\n",
       "        [11, 10,  9],\n",
       "        [14, 13, 12]],\n",
       "\n",
       "       [[17, 16, 15],\n",
       "        [20, 19, 18],\n",
       "        [23, 22, 21],\n",
       "        [26, 25, 24],\n",
       "        [29, 28, 27]]])"
      ]
     },
     "execution_count": 548,
     "metadata": {},
     "output_type": "execute_result"
    }
   ],
   "source": [
    "b2"
   ]
  },
  {
   "cell_type": "code",
   "execution_count": 549,
   "metadata": {},
   "outputs": [
    {
     "data": {
      "text/plain": [
       "0"
      ]
     },
     "execution_count": 549,
     "metadata": {},
     "output_type": "execute_result"
    }
   ],
   "source": [
    "np.max(np.abs(b1-b2))"
   ]
  },
  {
   "cell_type": "markdown",
   "metadata": {
    "heading_collapsed": true
   },
   "source": [
    "# # model testing"
   ]
  },
  {
   "cell_type": "code",
   "execution_count": null,
   "metadata": {
    "hidden": true
   },
   "outputs": [],
   "source": [
    "shape1 = (None,5,4,2)\n",
    "shape2 = (None,5,4,1)\n",
    "output_shape = list(shape1[:-len(shape2)])\n",
    "for i, j in zip(shape1[-len(shape2):], shape2):\n",
    "    if i is None or j is None:\n",
    "        output_shape.append(None)\n",
    "    elif i == 1:\n",
    "        output_shape.append(j)\n",
    "    elif j == 1:\n",
    "        output_shape.append(i)\n",
    "    else:\n",
    "        if i != j:\n",
    "            raise ValueError('Operands could not be broadcast '\n",
    "                             'together with shapes ' +\n",
    "                             str(shape1) + ' ' + str(shape2))\n",
    "        output_shape.append(i)\n",
    "set([shape1,shape2]) # check if all inputs are the same shape"
   ]
  },
  {
   "cell_type": "code",
   "execution_count": null,
   "metadata": {
    "hidden": true
   },
   "outputs": [],
   "source": [
    "convert_sequential_to_model(model).layers"
   ]
  },
  {
   "cell_type": "code",
   "execution_count": null,
   "metadata": {
    "hidden": true
   },
   "outputs": [],
   "source": [
    "model.layers"
   ]
  },
  {
   "cell_type": "code",
   "execution_count": null,
   "metadata": {
    "hidden": true
   },
   "outputs": [],
   "source": [
    "def convert_sequential_to_model(model):\n",
    "    \"\"\"Convert a sequential model to the underlying functional format\"\"\"\n",
    "    if type(model).__name__ == 'Sequential':\n",
    "        if hasattr(model, '_inbound_nodes'):\n",
    "            inbound_nodes = model._inbound_nodes\n",
    "        elif hasattr(model, 'inbound_nodes'):\n",
    "            inbound_nodes = model.inbound_nodes\n",
    "        else:\n",
    "            raise ValueError('can not get (_)inbound_nodes from model')\n",
    "        # Since Keras 2.2.0\n",
    "        if model.model == model:\n",
    "            input_layer = keras.layers.Input(batch_shape=model.layers[0].input_shape)\n",
    "            prev_layer = input_layer\n",
    "            for layer in model.layers:\n",
    "                prev_layer = layer(prev_layer)\n",
    "            funcmodel = keras.models.Model([input_layer], [prev_layer])\n",
    "            model = funcmodel\n",
    "        else:\n",
    "            model = model.model\n",
    "        if hasattr(model, '_inbound_nodes'):\n",
    "            model._inbound_nodes = inbound_nodes\n",
    "        elif hasattr(model, 'inbound_nodes'):\n",
    "            model.inbound_nodes = inbound_nodes\n",
    "    assert model.layers\n",
    "    for i in range(len(model.layers)):\n",
    "        if type(model.layers[i]).__name__ in ['Model', 'Sequential']:\n",
    "            model.layers[i] = convert_sequential_to_model(model.layers[i])\n",
    "    return model\n"
   ]
  }
 ],
 "metadata": {
  "kernelspec": {
   "display_name": "Python 3",
   "language": "python",
   "name": "python3"
  },
  "language_info": {
   "codemirror_mode": {
    "name": "ipython",
    "version": 3
   },
   "file_extension": ".py",
   "mimetype": "text/x-python",
   "name": "python",
   "nbconvert_exporter": "python",
   "pygments_lexer": "ipython3",
   "version": "3.7.2"
  },
  "toc": {
   "base_numbering": 1,
   "nav_menu": {},
   "number_sections": true,
   "sideBar": true,
   "skip_h1_title": false,
   "title_cell": "Table of Contents",
   "title_sidebar": "Contents",
   "toc_cell": false,
   "toc_position": {},
   "toc_section_display": true,
   "toc_window_display": false
  },
  "varInspector": {
   "cols": {
    "lenName": 16,
    "lenType": 16,
    "lenVar": 40
   },
   "kernels_config": {
    "python": {
     "delete_cmd_postfix": "",
     "delete_cmd_prefix": "del ",
     "library": "var_list.py",
     "varRefreshCmd": "print(var_dic_list())"
    },
    "r": {
     "delete_cmd_postfix": ") ",
     "delete_cmd_prefix": "rm(",
     "library": "var_list.r",
     "varRefreshCmd": "cat(var_dic_list()) "
    }
   },
   "types_to_exclude": [
    "module",
    "function",
    "builtin_function_or_method",
    "instance",
    "_Feature"
   ],
   "window_display": false
  }
 },
 "nbformat": 4,
 "nbformat_minor": 2
}
